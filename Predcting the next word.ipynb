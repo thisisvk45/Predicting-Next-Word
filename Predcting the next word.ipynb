{
 "cells": [
  {
   "cell_type": "code",
   "execution_count": 1,
   "id": "fcac0774",
   "metadata": {},
   "outputs": [],
   "source": [
    "import numpy as np\n",
    "import tensorflow as tf\n",
    "from tensorflow.keras.preprocessing.text import Tokenizer\n",
    "from tensorflow.keras.preprocessing.sequence import pad_sequences\n",
    "from tensorflow.keras.models import Sequential\n",
    "from tensorflow.keras.layers import Embedding, LSTM, Dense\n",
    "\n",
    "file_path = 'sherlock-holm.es_stories_plain-text_advs.txt'\n",
    "with open(file_path, 'r', encoding='utf-8') as file:\n",
    "    text = file.read()"
   ]
  },
  {
   "cell_type": "code",
   "execution_count": 2,
   "id": "38f63ca1",
   "metadata": {},
   "outputs": [],
   "source": [
    "tokenizer = Tokenizer()\n",
    "tokenizer.fit_on_texts([text])\n",
    "total_words = len(tokenizer.word_index) + 1"
   ]
  },
  {
   "cell_type": "code",
   "execution_count": 3,
   "id": "a80d93a2",
   "metadata": {},
   "outputs": [
    {
     "data": {
      "text/plain": [
       "8200"
      ]
     },
     "execution_count": 3,
     "metadata": {},
     "output_type": "execute_result"
    }
   ],
   "source": [
    "total_words"
   ]
  },
  {
   "cell_type": "code",
   "execution_count": 4,
   "id": "4da2fd3e",
   "metadata": {},
   "outputs": [],
   "source": [
    "input_sequences = [tokenizer.texts_to_sequences([line])[0][:i+1] for line in text.split('\\n') for i in range(1, len(tokenizer.texts_to_sequences([line])[0]))]"
   ]
  },
  {
   "cell_type": "code",
   "execution_count": 5,
   "id": "f6c9f47d",
   "metadata": {},
   "outputs": [],
   "source": [
    "max_sequence_len = max(len(seq) for seq in input_sequences)\n",
    "input_sequences = pad_sequences(input_sequences, maxlen=max_sequence_len, padding='pre', truncating='post', dtype='int32')"
   ]
  },
  {
   "cell_type": "code",
   "execution_count": 6,
   "id": "bc152c00",
   "metadata": {},
   "outputs": [],
   "source": [
    "X = input_sequences[:, :-1]\n",
    "y = input_sequences[:, -1]"
   ]
  },
  {
   "cell_type": "code",
   "execution_count": 7,
   "id": "7e74e8e8",
   "metadata": {},
   "outputs": [],
   "source": [
    "y = np.array(tf.keras.utils.to_categorical(y, num_classes=total_words))"
   ]
  },
  {
   "cell_type": "code",
   "execution_count": 8,
   "id": "017945f9",
   "metadata": {},
   "outputs": [
    {
     "name": "stdout",
     "output_type": "stream",
     "text": [
      "Model: \"sequential\"\n",
      "_________________________________________________________________\n",
      " Layer (type)                Output Shape              Param #   \n",
      "=================================================================\n",
      " embedding (Embedding)       (None, 17, 100)           820000    \n",
      "                                                                 \n",
      " lstm (LSTM)                 (None, 150)               150600    \n",
      "                                                                 \n",
      " dense (Dense)               (None, 8200)              1238200   \n",
      "                                                                 \n",
      "=================================================================\n",
      "Total params: 2208800 (8.43 MB)\n",
      "Trainable params: 2208800 (8.43 MB)\n",
      "Non-trainable params: 0 (0.00 Byte)\n",
      "_________________________________________________________________\n",
      "None\n"
     ]
    }
   ],
   "source": [
    "model = Sequential()\n",
    "model.add(Embedding(total_words, 100, input_length=max_sequence_len-1))\n",
    "model.add(LSTM(150))\n",
    "model.add(Dense(total_words, activation='softmax'))\n",
    "print(model.summary())"
   ]
  },
  {
   "cell_type": "code",
   "execution_count": 9,
   "id": "444b9426",
   "metadata": {},
   "outputs": [
    {
     "name": "stdout",
     "output_type": "stream",
     "text": [
      "Epoch 1/100\n",
      "3010/3010 [==============================] - 170s 54ms/step - loss: 6.2070 - accuracy: 0.0809\n",
      "Epoch 2/100\n",
      "3010/3010 [==============================] - 165s 55ms/step - loss: 5.4804 - accuracy: 0.1254\n",
      "Epoch 3/100\n",
      "3010/3010 [==============================] - 161s 53ms/step - loss: 5.1041 - accuracy: 0.1469\n",
      "Epoch 4/100\n",
      "3010/3010 [==============================] - 184s 61ms/step - loss: 4.7745 - accuracy: 0.1665\n",
      "Epoch 5/100\n",
      "3010/3010 [==============================] - 180s 60ms/step - loss: 4.4721 - accuracy: 0.1846\n",
      "Epoch 6/100\n",
      "3010/3010 [==============================] - 211s 70ms/step - loss: 4.1877 - accuracy: 0.2052\n",
      "Epoch 7/100\n",
      "3010/3010 [==============================] - 203s 67ms/step - loss: 3.9155 - accuracy: 0.2293\n",
      "Epoch 8/100\n",
      "3010/3010 [==============================] - 242s 80ms/step - loss: 3.6583 - accuracy: 0.2604\n",
      "Epoch 9/100\n",
      "3010/3010 [==============================] - 200s 66ms/step - loss: 3.4160 - accuracy: 0.2917\n",
      "Epoch 10/100\n",
      "3010/3010 [==============================] - 196s 65ms/step - loss: 3.1879 - accuracy: 0.3275\n",
      "Epoch 11/100\n",
      "3010/3010 [==============================] - 195s 65ms/step - loss: 2.9771 - accuracy: 0.3615\n",
      "Epoch 12/100\n",
      "3010/3010 [==============================] - 217s 72ms/step - loss: 2.7827 - accuracy: 0.3975\n",
      "Epoch 13/100\n",
      "3010/3010 [==============================] - 193s 64ms/step - loss: 2.6050 - accuracy: 0.4304\n",
      "Epoch 14/100\n",
      "3010/3010 [==============================] - 235s 78ms/step - loss: 2.4422 - accuracy: 0.4623\n",
      "Epoch 15/100\n",
      "3010/3010 [==============================] - 220s 73ms/step - loss: 2.2936 - accuracy: 0.4907\n",
      "Epoch 16/100\n",
      "3010/3010 [==============================] - 226s 75ms/step - loss: 2.1547 - accuracy: 0.5195\n",
      "Epoch 17/100\n",
      "3010/3010 [==============================] - 186s 62ms/step - loss: 2.0283 - accuracy: 0.5462\n",
      "Epoch 18/100\n",
      "3010/3010 [==============================] - 173s 57ms/step - loss: 1.9145 - accuracy: 0.5704\n",
      "Epoch 19/100\n",
      "3010/3010 [==============================] - 168s 56ms/step - loss: 1.8045 - accuracy: 0.5940\n",
      "Epoch 20/100\n",
      "3010/3010 [==============================] - 170s 56ms/step - loss: 1.7087 - accuracy: 0.6153\n",
      "Epoch 21/100\n",
      "3010/3010 [==============================] - 950s 316ms/step - loss: 1.6209 - accuracy: 0.6341\n",
      "Epoch 22/100\n",
      "3010/3010 [==============================] - 161s 54ms/step - loss: 1.5353 - accuracy: 0.6517\n",
      "Epoch 23/100\n",
      "3010/3010 [==============================] - 159s 53ms/step - loss: 1.4601 - accuracy: 0.6690\n",
      "Epoch 24/100\n",
      "3010/3010 [==============================] - 149s 50ms/step - loss: 1.3910 - accuracy: 0.6845\n",
      "Epoch 25/100\n",
      "3010/3010 [==============================] - 140s 47ms/step - loss: 1.3258 - accuracy: 0.6987\n",
      "Epoch 26/100\n",
      "3010/3010 [==============================] - 140s 46ms/step - loss: 1.2670 - accuracy: 0.7121\n",
      "Epoch 27/100\n",
      "3010/3010 [==============================] - 139s 46ms/step - loss: 1.2122 - accuracy: 0.7239\n",
      "Epoch 28/100\n",
      "3010/3010 [==============================] - 142s 47ms/step - loss: 1.1609 - accuracy: 0.7353\n",
      "Epoch 29/100\n",
      "3010/3010 [==============================] - 156s 52ms/step - loss: 1.1171 - accuracy: 0.7442\n",
      "Epoch 30/100\n",
      "3010/3010 [==============================] - 158s 52ms/step - loss: 1.0713 - accuracy: 0.7552\n",
      "Epoch 31/100\n",
      "3010/3010 [==============================] - 139s 46ms/step - loss: 1.0338 - accuracy: 0.7627\n",
      "Epoch 32/100\n",
      "3010/3010 [==============================] - 140s 47ms/step - loss: 0.9962 - accuracy: 0.7715\n",
      "Epoch 33/100\n",
      "3010/3010 [==============================] - 138s 46ms/step - loss: 0.9614 - accuracy: 0.7796\n",
      "Epoch 34/100\n",
      "3010/3010 [==============================] - 139s 46ms/step - loss: 0.9312 - accuracy: 0.7855\n",
      "Epoch 35/100\n",
      "3010/3010 [==============================] - 143s 47ms/step - loss: 0.9015 - accuracy: 0.7922\n",
      "Epoch 36/100\n",
      "3010/3010 [==============================] - 140s 46ms/step - loss: 0.8758 - accuracy: 0.7974\n",
      "Epoch 37/100\n",
      "3010/3010 [==============================] - 146s 48ms/step - loss: 0.8497 - accuracy: 0.8031\n",
      "Epoch 38/100\n",
      "3010/3010 [==============================] - 150s 50ms/step - loss: 0.8280 - accuracy: 0.8075\n",
      "Epoch 39/100\n",
      "3010/3010 [==============================] - 144s 48ms/step - loss: 0.8045 - accuracy: 0.8134\n",
      "Epoch 40/100\n",
      "3010/3010 [==============================] - 140s 47ms/step - loss: 0.7863 - accuracy: 0.8176\n",
      "Epoch 41/100\n",
      "3010/3010 [==============================] - 144s 48ms/step - loss: 0.7680 - accuracy: 0.8215\n",
      "Epoch 42/100\n",
      "3010/3010 [==============================] - 145s 48ms/step - loss: 0.7516 - accuracy: 0.8238\n",
      "Epoch 43/100\n",
      "3010/3010 [==============================] - 140s 46ms/step - loss: 0.7387 - accuracy: 0.8261\n",
      "Epoch 44/100\n",
      "3010/3010 [==============================] - 140s 47ms/step - loss: 0.7186 - accuracy: 0.8309\n",
      "Epoch 45/100\n",
      "3010/3010 [==============================] - 140s 46ms/step - loss: 0.7121 - accuracy: 0.8313\n",
      "Epoch 46/100\n",
      "3010/3010 [==============================] - 139s 46ms/step - loss: 0.6938 - accuracy: 0.8355\n",
      "Epoch 47/100\n",
      "3010/3010 [==============================] - 138s 46ms/step - loss: 0.6848 - accuracy: 0.8373\n",
      "Epoch 48/100\n",
      "3010/3010 [==============================] - 144s 48ms/step - loss: 0.6743 - accuracy: 0.8391\n",
      "Epoch 49/100\n",
      "3010/3010 [==============================] - 139s 46ms/step - loss: 0.6628 - accuracy: 0.8413\n",
      "Epoch 50/100\n",
      "3010/3010 [==============================] - 142s 47ms/step - loss: 0.6507 - accuracy: 0.8445\n",
      "Epoch 51/100\n",
      "3010/3010 [==============================] - 140s 46ms/step - loss: 0.6456 - accuracy: 0.8449\n",
      "Epoch 52/100\n",
      "3010/3010 [==============================] - 139s 46ms/step - loss: 0.6350 - accuracy: 0.8477\n",
      "Epoch 53/100\n",
      "3010/3010 [==============================] - 139s 46ms/step - loss: 0.6264 - accuracy: 0.8498\n",
      "Epoch 54/100\n",
      "3010/3010 [==============================] - 143s 48ms/step - loss: 0.6215 - accuracy: 0.8495\n",
      "Epoch 55/100\n",
      "3010/3010 [==============================] - 145s 48ms/step - loss: 0.6103 - accuracy: 0.8525\n",
      "Epoch 56/100\n",
      "3010/3010 [==============================] - 140s 47ms/step - loss: 0.6081 - accuracy: 0.8522\n",
      "Epoch 57/100\n",
      "3010/3010 [==============================] - 139s 46ms/step - loss: 0.6031 - accuracy: 0.8530\n",
      "Epoch 58/100\n",
      "3010/3010 [==============================] - 140s 46ms/step - loss: 0.5950 - accuracy: 0.8544\n",
      "Epoch 59/100\n",
      "3010/3010 [==============================] - 138s 46ms/step - loss: 0.5920 - accuracy: 0.8536\n",
      "Epoch 60/100\n",
      "3010/3010 [==============================] - 139s 46ms/step - loss: 0.5851 - accuracy: 0.8563\n",
      "Epoch 61/100\n",
      "3010/3010 [==============================] - 142s 47ms/step - loss: 0.5775 - accuracy: 0.8583\n",
      "Epoch 62/100\n",
      "3010/3010 [==============================] - 139s 46ms/step - loss: 0.5775 - accuracy: 0.8583\n",
      "Epoch 63/100\n",
      "3010/3010 [==============================] - 144s 48ms/step - loss: 0.5697 - accuracy: 0.8592\n",
      "Epoch 64/100\n",
      "3010/3010 [==============================] - 154s 51ms/step - loss: 0.5685 - accuracy: 0.8586\n",
      "Epoch 65/100\n",
      "3010/3010 [==============================] - 153s 51ms/step - loss: 0.5660 - accuracy: 0.8591\n",
      "Epoch 66/100\n",
      "3010/3010 [==============================] - 152s 51ms/step - loss: 0.5588 - accuracy: 0.8613\n",
      "Epoch 67/100\n",
      "3010/3010 [==============================] - 153s 51ms/step - loss: 0.5564 - accuracy: 0.8609\n",
      "Epoch 68/100\n",
      "3010/3010 [==============================] - 162s 54ms/step - loss: 0.5535 - accuracy: 0.8610\n",
      "Epoch 69/100\n",
      "3010/3010 [==============================] - 143s 48ms/step - loss: 0.5482 - accuracy: 0.8628\n",
      "Epoch 70/100\n",
      "3010/3010 [==============================] - 146s 48ms/step - loss: 0.5513 - accuracy: 0.8608\n",
      "Epoch 71/100\n",
      "3010/3010 [==============================] - 152s 51ms/step - loss: 0.5439 - accuracy: 0.8631\n",
      "Epoch 72/100\n",
      "3010/3010 [==============================] - 147s 49ms/step - loss: 0.5470 - accuracy: 0.8626\n",
      "Epoch 73/100\n",
      "3010/3010 [==============================] - 157s 52ms/step - loss: 0.5414 - accuracy: 0.8632\n",
      "Epoch 74/100\n",
      "3010/3010 [==============================] - 146s 49ms/step - loss: 0.5459 - accuracy: 0.8610\n",
      "Epoch 75/100\n",
      "3010/3010 [==============================] - 139s 46ms/step - loss: 0.5371 - accuracy: 0.8634\n",
      "Epoch 76/100\n",
      "3010/3010 [==============================] - 140s 47ms/step - loss: 0.5386 - accuracy: 0.8635\n",
      "Epoch 77/100\n"
     ]
    },
    {
     "name": "stdout",
     "output_type": "stream",
     "text": [
      "3010/3010 [==============================] - 139s 46ms/step - loss: 0.5353 - accuracy: 0.8634\n",
      "Epoch 78/100\n",
      "3010/3010 [==============================] - 139s 46ms/step - loss: 0.5333 - accuracy: 0.8636\n",
      "Epoch 79/100\n",
      "3010/3010 [==============================] - 152s 51ms/step - loss: 0.5295 - accuracy: 0.8655\n",
      "Epoch 80/100\n",
      "3010/3010 [==============================] - 151s 50ms/step - loss: 0.5338 - accuracy: 0.8628\n",
      "Epoch 81/100\n",
      "3010/3010 [==============================] - 145s 48ms/step - loss: 0.5316 - accuracy: 0.8624\n",
      "Epoch 82/100\n",
      "3010/3010 [==============================] - 145s 48ms/step - loss: 0.5263 - accuracy: 0.8647\n",
      "Epoch 83/100\n",
      "3010/3010 [==============================] - 145s 48ms/step - loss: 0.5289 - accuracy: 0.8630\n",
      "Epoch 84/100\n",
      "3010/3010 [==============================] - 146s 49ms/step - loss: 0.5242 - accuracy: 0.8651\n",
      "Epoch 85/100\n",
      "3010/3010 [==============================] - 153s 51ms/step - loss: 0.5244 - accuracy: 0.8642\n",
      "Epoch 86/100\n",
      "3010/3010 [==============================] - 153s 51ms/step - loss: 0.5297 - accuracy: 0.8624\n",
      "Epoch 87/100\n",
      "3010/3010 [==============================] - 143s 47ms/step - loss: 0.5173 - accuracy: 0.8667\n",
      "Epoch 88/100\n",
      "3010/3010 [==============================] - 145s 48ms/step - loss: 0.5225 - accuracy: 0.8649\n",
      "Epoch 89/100\n",
      "3010/3010 [==============================] - 150s 50ms/step - loss: 0.5225 - accuracy: 0.8638\n",
      "Epoch 90/100\n",
      "3010/3010 [==============================] - 149s 49ms/step - loss: 0.5190 - accuracy: 0.8653\n",
      "Epoch 91/100\n",
      "3010/3010 [==============================] - 150s 50ms/step - loss: 0.5132 - accuracy: 0.8674\n",
      "Epoch 92/100\n",
      "3010/3010 [==============================] - 148s 49ms/step - loss: 0.5185 - accuracy: 0.8643\n",
      "Epoch 93/100\n",
      "3010/3010 [==============================] - 148s 49ms/step - loss: 0.5146 - accuracy: 0.8658\n",
      "Epoch 94/100\n",
      "3010/3010 [==============================] - 149s 50ms/step - loss: 0.5177 - accuracy: 0.8646\n",
      "Epoch 95/100\n",
      "3010/3010 [==============================] - 151s 50ms/step - loss: 0.5172 - accuracy: 0.8648\n",
      "Epoch 96/100\n",
      "3010/3010 [==============================] - 149s 50ms/step - loss: 0.5125 - accuracy: 0.8659\n",
      "Epoch 97/100\n",
      "3010/3010 [==============================] - 152s 50ms/step - loss: 0.5085 - accuracy: 0.8670\n",
      "Epoch 98/100\n",
      "3010/3010 [==============================] - 149s 50ms/step - loss: 0.5118 - accuracy: 0.8654\n",
      "Epoch 99/100\n",
      "3010/3010 [==============================] - 149s 49ms/step - loss: 0.5162 - accuracy: 0.8641\n",
      "Epoch 100/100\n",
      "3010/3010 [==============================] - 146s 48ms/step - loss: 0.5112 - accuracy: 0.8644\n"
     ]
    },
    {
     "data": {
      "text/plain": [
       "<keras.src.callbacks.History at 0x1d88c33bb10>"
      ]
     },
     "execution_count": 9,
     "metadata": {},
     "output_type": "execute_result"
    }
   ],
   "source": [
    "model.compile(loss='categorical_crossentropy', optimizer='adam', metrics=['accuracy'])\n",
    "model.fit(X, y, epochs=100, verbose=1)"
   ]
  },
  {
   "cell_type": "code",
   "execution_count": 10,
   "id": "76dd4534",
   "metadata": {},
   "outputs": [
    {
     "name": "stdout",
     "output_type": "stream",
     "text": [
      "1/1 [==============================] - 2s 2s/step\n",
      "1/1 [==============================] - 0s 28ms/step\n",
      "1/1 [==============================] - 0s 27ms/step\n",
      "I will leave if they have a little\n"
     ]
    }
   ],
   "source": [
    "seed_text = \"I will leave if they\"\n",
    "next_words = 3\n",
    "\n",
    "for _ in range(next_words):\n",
    "    token_list = tokenizer.texts_to_sequences([seed_text])[0]\n",
    "    token_list = pad_sequences([token_list], maxlen=max_sequence_len-1, padding='pre')\n",
    "    predicted = np.argmax(model.predict(token_list), axis=-1)\n",
    "    output_word = \"\"\n",
    "    for word, index in tokenizer.word_index.items():\n",
    "        if index == predicted:\n",
    "            output_word = word\n",
    "            break\n",
    "    seed_text += \" \" + output_word\n",
    "\n",
    "print(seed_text)"
   ]
  },
  {
   "cell_type": "code",
   "execution_count": null,
   "id": "9f91d488",
   "metadata": {},
   "outputs": [],
   "source": []
  }
 ],
 "metadata": {
  "kernelspec": {
   "display_name": "Python 3 (ipykernel)",
   "language": "python",
   "name": "python3"
  },
  "language_info": {
   "codemirror_mode": {
    "name": "ipython",
    "version": 3
   },
   "file_extension": ".py",
   "mimetype": "text/x-python",
   "name": "python",
   "nbconvert_exporter": "python",
   "pygments_lexer": "ipython3",
   "version": "3.11.4"
  }
 },
 "nbformat": 4,
 "nbformat_minor": 5
}
